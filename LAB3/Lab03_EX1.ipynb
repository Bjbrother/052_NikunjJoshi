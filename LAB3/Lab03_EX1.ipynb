{
  "nbformat": 4,
  "nbformat_minor": 0,
  "metadata": {
    "colab": {
      "name": "Lab03_EX1.ipynb",
      "provenance": []
    },
    "kernelspec": {
      "name": "python3",
      "display_name": "Python 3"
    },
    "language_info": {
      "name": "python"
    }
  },
  "cells": [
    {
      "cell_type": "code",
      "metadata": {
        "id": "d6l8dumr5uGT"
      },
      "source": [
        "import numpy as np\n",
        "import pandas as pd\n",
        "import matplotlib.pyplot as plt\n",
        "from sklearn import datasets, preprocessing\n",
        "from sklearn.naive_bayes import GaussianNB, MultinomialNB"
      ],
      "execution_count": 1,
      "outputs": []
    },
    {
      "cell_type": "code",
      "metadata": {
        "colab": {
          "base_uri": "https://localhost:8080/"
        },
        "id": "t0Z9HVNHALak",
        "outputId": "58be3d52-7b2e-4e0c-bfe2-d05975f83d27"
      },
      "source": [
        "org_data = pd.read_csv(\"Dataset2.csv\")\n",
        "\n",
        "\n",
        "label_encoder = preprocessing.LabelEncoder()\n",
        "\n",
        "for data in org_data:\n",
        "  print(f\"\\n\\nHeading : {data}\\n\\n\")\n",
        "  print(list(org_data[data]))\n",
        "  org_data[data] = label_encoder.fit_transform(org_data[data])\n",
        "  print(f\"\\n\\nAfter the tranformation of {data}\\n\\n\")\n",
        "  print(list(org_data[data]))"
      ],
      "execution_count": 2,
      "outputs": [
        {
          "output_type": "stream",
          "name": "stdout",
          "text": [
            "\n",
            "\n",
            "Heading : Outlook\n",
            "\n",
            "\n",
            "['R', 'R', 'O', 'S', 'S', 'S', 'O', 'R', 'R', 'S', 'R', 'O', 'O', 'S']\n",
            "\n",
            "\n",
            "After the tranformation of Outlook\n",
            "\n",
            "\n",
            "[1, 1, 0, 2, 2, 2, 0, 1, 1, 2, 1, 0, 0, 2]\n",
            "\n",
            "\n",
            "Heading : Temp\n",
            "\n",
            "\n",
            "['H', 'H', 'H', 'M', 'M', 'M', 'C', 'C', 'C', 'M', 'M', 'M', 'H', 'M']\n",
            "\n",
            "\n",
            "After the tranformation of Temp\n",
            "\n",
            "\n",
            "[1, 1, 1, 2, 2, 2, 0, 0, 0, 2, 2, 2, 1, 2]\n",
            "\n",
            "\n",
            "Heading : Wind\n",
            "\n",
            "\n",
            "['F', 'T', 'F', 'F', 'F', 'T', 'T', 'F', 'F', 'F', 'T', 'T', 'F', 'T']\n",
            "\n",
            "\n",
            "After the tranformation of Wind\n",
            "\n",
            "\n",
            "[0, 1, 0, 0, 0, 1, 1, 0, 0, 0, 1, 1, 0, 1]\n",
            "\n",
            "\n",
            "Heading : Humidity\n",
            "\n",
            "\n",
            "['Normal', 'High', 'Normal', 'Normal', 'Normal', 'Low', 'Normal', 'Normal', 'Low', 'High', 'High', 'Low', 'Normal', 'Normal']\n",
            "\n",
            "\n",
            "After the tranformation of Humidity\n",
            "\n",
            "\n",
            "[2, 0, 2, 2, 2, 1, 2, 2, 1, 0, 0, 1, 2, 2]\n",
            "\n",
            "\n",
            "Heading : Class\n",
            "\n",
            "\n",
            "['N', 'N', 'Y', 'N', 'Y', 'Y', 'Y', 'Y', 'Y', 'Y', 'Y', 'Y', 'Y', 'N']\n",
            "\n",
            "\n",
            "After the tranformation of Class\n",
            "\n",
            "\n",
            "[0, 0, 1, 0, 1, 1, 1, 1, 1, 1, 1, 1, 1, 0]\n"
          ]
        }
      ]
    },
    {
      "cell_type": "code",
      "metadata": {
        "colab": {
          "base_uri": "https://localhost:8080/"
        },
        "id": "wvcsOkjRANNh",
        "outputId": "59c8e187-2dea-44d2-f951-0905920b2065"
      },
      "source": [
        "combined_features = tuple(zip(org_data[\"Outlook\"], org_data[\"Temp\"], org_data[\"Wind\"], org_data[\"Humidity\"]))\n",
        "print(\"After combined!\")\n",
        "\n",
        "print(\"Outlook, Temp, Wind, Humidity\\n\")\n",
        "for pair in combined_features:\n",
        "    print(pair)"
      ],
      "execution_count": 3,
      "outputs": [
        {
          "output_type": "stream",
          "name": "stdout",
          "text": [
            "After combined!\n",
            "Outlook, Temp, Wind, Humidity\n",
            "\n",
            "(1, 1, 0, 2)\n",
            "(1, 1, 1, 0)\n",
            "(0, 1, 0, 2)\n",
            "(2, 2, 0, 2)\n",
            "(2, 2, 0, 2)\n",
            "(2, 2, 1, 1)\n",
            "(0, 0, 1, 2)\n",
            "(1, 0, 0, 2)\n",
            "(1, 0, 0, 1)\n",
            "(2, 2, 0, 0)\n",
            "(1, 2, 1, 0)\n",
            "(0, 2, 1, 1)\n",
            "(0, 1, 0, 2)\n",
            "(2, 2, 1, 2)\n"
          ]
        }
      ]
    },
    {
      "cell_type": "code",
      "metadata": {
        "colab": {
          "base_uri": "https://localhost:8080/"
        },
        "id": "ktdGAVvyAbkc",
        "outputId": "0522790d-e253-48b1-a058-69118c175713"
      },
      "source": [
        "from sklearn.model_selection import train_test_split\n",
        "\n",
        "# Train test division rabge = 90% - 10%  (roll number 52)\n",
        "X_train, X_test, Y_train, Y_test = train_test_split(combined_features, org_data[\"Class\"], test_size = 0.10, random_state = 52)\n",
        "\n",
        "model = MultinomialNB()\n",
        "model.fit(X_train, Y_train)\n",
        "\n",
        "Y_predicted = model.predict(X_test)\n",
        "\n",
        "print(Y_predicted)"
      ],
      "execution_count": 4,
      "outputs": [
        {
          "output_type": "stream",
          "name": "stdout",
          "text": [
            "[1 1]\n"
          ]
        }
      ]
    },
    {
      "cell_type": "code",
      "metadata": {
        "colab": {
          "base_uri": "https://localhost:8080/"
        },
        "id": "G_DZRodrAhje",
        "outputId": "668cc103-9842-4483-bd3f-7a61a0691ce7"
      },
      "source": [
        "from sklearn import metrics\n",
        "\n",
        "print(f\"Accuracy is {metrics.accuracy_score(Y_test, Y_predicted)}\")"
      ],
      "execution_count": 5,
      "outputs": [
        {
          "output_type": "stream",
          "name": "stdout",
          "text": [
            "Accuracy is 0.5\n"
          ]
        }
      ]
    },
    {
      "cell_type": "code",
      "metadata": {
        "colab": {
          "base_uri": "https://localhost:8080/"
        },
        "id": "srNJjabqAmAo",
        "outputId": "398ae04b-069b-4b54-abf5-2f2b3376fc97"
      },
      "source": [
        "from sklearn.metrics import precision_score\n",
        "from sklearn.metrics import recall_score\n",
        "\n",
        "\n",
        "precision = precision_score(Y_test, Y_predicted)\n",
        "recall = recall_score(Y_test, Y_predicted)\n",
        "\n",
        "\n",
        "print(f\"precision = {precision}\")\n",
        "print(f\"recall = {recall}\")"
      ],
      "execution_count": 6,
      "outputs": [
        {
          "output_type": "stream",
          "name": "stdout",
          "text": [
            "precision = 0.5\n",
            "recall = 1.0\n"
          ]
        }
      ]
    },
    {
      "cell_type": "code",
      "metadata": {
        "colab": {
          "base_uri": "https://localhost:8080/"
        },
        "id": "1EZpZlUEArWd",
        "outputId": "1d0f107a-4b6b-406f-be06-62c4f4cc6264"
      },
      "source": [
        "# Temprature = \"Mild\" and Weather = \"sunny\"\n",
        "\n",
        "output = model.predict([[2, 2, 1, 2]])\n",
        "print(f\"Prediction = {output}\")"
      ],
      "execution_count": 7,
      "outputs": [
        {
          "output_type": "stream",
          "name": "stdout",
          "text": [
            "Prediction = [1]\n"
          ]
        }
      ]
    },
    {
      "cell_type": "code",
      "metadata": {
        "colab": {
          "base_uri": "https://localhost:8080/"
        },
        "id": "argxN6qmAwCk",
        "outputId": "b7c3db6d-a330-4a24-9d1e-e740837287fe"
      },
      "source": [
        "# Temprature = \"Hot\" and Weather = \"overcast\"\n",
        "\n",
        "output = model.predict([[0, 1, 1, 2]])\n",
        "print(f\"Prediction = {output}\")"
      ],
      "execution_count": 8,
      "outputs": [
        {
          "output_type": "stream",
          "name": "stdout",
          "text": [
            "Prediction = [1]\n"
          ]
        }
      ]
    }
  ]
}
